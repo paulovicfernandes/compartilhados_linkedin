{
 "cells": [
  {
   "cell_type": "markdown",
   "metadata": {},
   "source": [
    "# Módulo 5 Tarefa 1\n",
    "## Base de nascidos vivos do DataSUS\n",
    "O DataSUS disponibiliza diversos arquivos de dados com relação a seus segurados, conforme a [lei da transparência de informações públicas](https://www.sisgov.com/transparencia-acesso-informacao/#:~:text=A%20Lei%20da%20Transpar%C3%AAncia%20(LC,em%20um%20site%20na%20internet.). \n",
    "\n",
    "Essas informações podem ser obtidas pela internet [aqui](http://www2.datasus.gov.br/DATASUS/index.php?area=0901&item=1). Como o processo de obtenção desses arquivos foge um pouco do nosso escopo, deixamos o arquivo SINASC_RO_2019.csv` já como vai ser encontrado no DataSUS. O dicionário de dados está no arquivo `estrutura_sinasc_para_CD.pdf` (o nome do arquivo tal qual no portal do DataSUS).\n",
    "\n",
    "### Nosso objetivo\n",
    "Queremos deixar uma base organizada para podermos estudar a relação entre partos com risco para o bebê e algumas condições como tempo de parto, consultas de pré-natal etc.\n",
    "\n",
    "#### Preparação da base\n",
    "1. Carregue a base 'SINASC_RO_2019.csv'. Conte o número de registros e o número de registros não duplicados da base. Dica: você aprendeu um método que remove duplicados, encadeie este método com um outro método que conta o número de linhas. **Há linhas duplicadas?**  \n",
    "\n",
    "2. Conte o número de valores *missing* por variável.  \n",
    "\n",
    "3. Ok, no item anterior você deve ter achado pouco prático ler a informação de tantas variáveis, muitas delas nem devem ser interesantes. Então crie uma seleção dessa base somente com as colunas que interessam. São elas:\n",
    "` \n",
    "['LOCNASC', 'IDADEMAE', 'ESTCIVMAE', 'ESCMAE', 'QTDFILVIVO', \n",
    "    'GESTACAO', 'GRAVIDEZ', 'CONSULTAS', 'APGAR5'] \n",
    "`\n",
    "Refaça a contagem de valores *missings*.  \n",
    "\n",
    "4. Apgar é uma *nota* que o pediatra dá ao bebê quando nasce de acordo com algumas características associadas principalmente à respiração. Apgar 1 e Apgar 5 são as notas 1 e 5 minutos do nascimento. Apgar5 será a nossa variável de interesse principal. Então remova todos os registros com Apgar5 não preenchido. Para esta seleção, conte novamente o número de linhas e o número de *missings*.  \n",
    "\n",
    "5. observe que as variáveis `['ESTCIVMAE', 'CONSULTAS']` possuem o código `9`, que significa *ignorado*. Vamos assumir que o não preenchido é o mesmo que o código `9`.<br>\n",
    "6. Substitua os valores faltantes da quantitativa (`QTDFILVIVO`) por zero.  \n",
    "7. Das restantes, decida que valore te parece mais adequado (um 'não preenchido' ou um valor 'mais provável' como no item anterior) e preencha. Justifique. Lembre-se de que tratamento de dados é trabalho do cientista, e que estamos tomando decisões a todo o momento - não há necessariamente certo e errado aqui.  \n",
    "8. O Apgar possui uma classificação indicando se o bebê passou por asfixia:\n",
    "- Entre 8 e 10 está em uma faixa 'normal'. \n",
    "- Entre 6 e 7, significa que o recém-nascido passou por 'asfixia leve'. \n",
    "- Entre 4 e 5 significa 'asfixia moderada'.\n",
    "- Entre 0 e 3 significa 'asfixia severa'.  \n",
    "\n",
    "Crie uma categorização dessa variável com essa codificação e calcule as frequências dessa categorização.  \n",
    "<br>\n",
    "9. Renomeie as variáveis para que fiquem no *snake case*, ou seja, em letras minúsculas, com um *underscore* entre as palávras. Dica: repare que se você não quiser criar um *dataframe* novo, você vai precisar usar a opção `inplace = True`."
   ]
  },
  {
   "cell_type": "code",
   "execution_count": 5,
   "metadata": {
    "scrolled": true
   },
   "outputs": [
    {
     "name": "stdout",
     "output_type": "stream",
     "text": [
      "Número total de registros: 27028\n",
      "Número de registros não duplicados: 27028\n",
      "Não há linhas duplicadas na base de dados.\n"
     ]
    }
   ],
   "source": [
    "#1\n",
    "\n",
    "import pandas as pd\n",
    "import os\n",
    "\n",
    "# Caminho do arquivo\n",
    "caminho_arquivo = r'C:\\Users\\Acer\\Desktop\\M5E1 - EBAC\\Tarefa1\\SINASC_RO_2019.csv'\n",
    "\n",
    "# Verifica se o arquivo existe no caminho especificado\n",
    "if not os.path.exists(caminho_arquivo):\n",
    "    print(\"O arquivo não foi encontrado no caminho especificado.\")\n",
    "else:\n",
    "    # Tentar ler o arquivo\n",
    "    try:\n",
    "        sinasc = pd.read_csv(caminho_arquivo)\n",
    "        total_registros = sinasc.shape[0]\n",
    "        print(\"Número total de registros:\", total_registros)\n",
    "\n",
    "        registros_nao_duplicados = sinasc.drop_duplicates().shape[0]\n",
    "        print(\"Número de registros não duplicados:\", registros_nao_duplicados)\n",
    "\n",
    "        if total_registros == registros_nao_duplicados:\n",
    "            print(\"Não há linhas duplicadas na base de dados.\")\n",
    "        else:\n",
    "            print(\"Há linhas duplicadas na base de dados.\")\n",
    "    except Exception as e:\n",
    "        print(\"Ocorreu um erro ao tentar ler o arquivo:\", e)\n",
    "\n",
    "\n"
   ]
  },
  {
   "cell_type": "code",
   "execution_count": 6,
   "metadata": {},
   "outputs": [
    {
     "name": "stdout",
     "output_type": "stream",
     "text": [
      "Número de valores missing por variável:\n",
      "ORIGEM          0\n",
      "CODESTAB      115\n",
      "CODMUNNASC      0\n",
      "LOCNASC         0\n",
      "IDADEMAE        0\n",
      "             ... \n",
      "munResUf        0\n",
      "munResLat       1\n",
      "munResLon       1\n",
      "munResAlt       1\n",
      "munResArea      1\n",
      "Length: 69, dtype: int64\n"
     ]
    }
   ],
   "source": [
    "# 2) \n",
    "\n",
    "\n",
    "\n",
    "# Contar o número de valores missing por variável\n",
    "missing_values = sinasc.isnull().sum()\n",
    "print(\"Número de valores missing por variável:\")\n",
    "print(missing_values)\n"
   ]
  },
  {
   "cell_type": "code",
   "execution_count": 7,
   "metadata": {},
   "outputs": [
    {
     "name": "stdout",
     "output_type": "stream",
     "text": [
      "Número de valores missing por variável:\n",
      "LOCNASC          0\n",
      "IDADEMAE         0\n",
      "ESTCIVMAE      317\n",
      "ESCMAE         312\n",
      "QTDFILVIVO    1573\n",
      "GESTACAO      1232\n",
      "GRAVIDEZ        79\n",
      "CONSULTAS        0\n",
      "APGAR5         103\n",
      "dtype: int64\n"
     ]
    }
   ],
   "source": [
    "# 3) \n",
    "\n",
    "\n",
    "\n",
    "# Selecionar apenas as colunas de interesse\n",
    "sinasc_interessante = sinasc[['LOCNASC', 'IDADEMAE', 'ESTCIVMAE', 'ESCMAE', 'QTDFILVIVO', 'GESTACAO', 'GRAVIDEZ', 'CONSULTAS', 'APGAR5']]\n",
    "\n",
    "# Contar o número de valores missing por variável\n",
    "missing_values = sinasc_interessante.isnull().sum()\n",
    "print(\"Número de valores missing por variável:\")\n",
    "print(missing_values)\n"
   ]
  },
  {
   "cell_type": "code",
   "execution_count": 8,
   "metadata": {},
   "outputs": [
    {
     "name": "stdout",
     "output_type": "stream",
     "text": [
      "Número total de registros com APGAR5 preenchido: 26925\n",
      "Número de valores missing por variável após remoção de registros com APGAR5 não preenchido:\n",
      "LOCNASC          0\n",
      "IDADEMAE         0\n",
      "ESTCIVMAE      315\n",
      "ESCMAE         310\n",
      "QTDFILVIVO    1566\n",
      "GESTACAO      1216\n",
      "GRAVIDEZ        76\n",
      "CONSULTAS        0\n",
      "APGAR5           0\n",
      "dtype: int64\n"
     ]
    }
   ],
   "source": [
    "# 4) \n",
    "\n",
    "# Remover registros com valores ausentes em APGAR5\n",
    "sinasc_interessante = sinasc_interessante.dropna(subset=['APGAR5'])\n",
    "\n",
    "# Contar o número de linhas após remoção de valores ausentes em APGAR5\n",
    "total_registros_apgar5 = sinasc_interessante.shape[0]\n",
    "print(\"Número total de registros com APGAR5 preenchido:\", total_registros_apgar5)\n",
    "\n",
    "# Contar o número de valores missing por variável após a remoção\n",
    "missing_values_apgar5 = sinasc_interessante.isnull().sum()\n",
    "print(\"Número de valores missing por variável após remoção de registros com APGAR5 não preenchido:\")\n",
    "print(missing_values_apgar5)"
   ]
  },
  {
   "cell_type": "code",
   "execution_count": 9,
   "metadata": {},
   "outputs": [
    {
     "name": "stdout",
     "output_type": "stream",
     "text": [
      "Número total de registros com APGAR5 preenchido e valores válidos em ESTCIVMAE e CONSULTAS: 26731\n",
      "Número de valores missing por variável após remoção de registros com APGAR5 não preenchido:\n",
      "LOCNASC          0\n",
      "IDADEMAE         0\n",
      "ESTCIVMAE      315\n",
      "ESCMAE         288\n",
      "QTDFILVIVO    1554\n",
      "GESTACAO      1197\n",
      "GRAVIDEZ        75\n",
      "CONSULTAS        0\n",
      "APGAR5           0\n",
      "dtype: int64\n"
     ]
    }
   ],
   "source": [
    "# 5) \n",
    "\n",
    "\n",
    "\n",
    "\n",
    "# Remover registros com valores ausentes em APGAR5 e considerar código 9 como valor ausente em ESTCIVMAE e CONSULTAS\n",
    "sinasc_interessante = sinasc_interessante[(sinasc_interessante['APGAR5'].notnull()) & \n",
    "                                          (sinasc_interessante['ESTCIVMAE'] != 9) & \n",
    "                                          (sinasc_interessante['CONSULTAS'] != 9)]\n",
    "\n",
    "# Contar o número de linhas após remoção de valores ausentes em APGAR5 e valores 9 em ESTCIVMAE e CONSULTAS\n",
    "total_registros_apgar5 = sinasc_interessante.shape[0]\n",
    "print(\"Número total de registros com APGAR5 preenchido e valores válidos em ESTCIVMAE e CONSULTAS:\", total_registros_apgar5)\n",
    "\n",
    "# Contar o número de valores missing por variável após a remoção\n",
    "missing_values_apgar5 = sinasc_interessante.isnull().sum()\n",
    "print(\"Número de valores missing por variável após remoção de registros com APGAR5 não preenchido:\")\n",
    "print(missing_values_apgar5)\n"
   ]
  },
  {
   "cell_type": "code",
   "execution_count": 10,
   "metadata": {},
   "outputs": [
    {
     "name": "stdout",
     "output_type": "stream",
     "text": [
      "Número total de registros após substituição de valores faltantes em QTDFILVIVO por zero: 26731\n",
      "Número de valores missing por variável após substituição de valores faltantes em QTDFILVIVO por zero:\n",
      "LOCNASC          0\n",
      "IDADEMAE         0\n",
      "ESTCIVMAE      315\n",
      "ESCMAE         288\n",
      "QTDFILVIVO       0\n",
      "GESTACAO      1197\n",
      "GRAVIDEZ        75\n",
      "CONSULTAS        0\n",
      "APGAR5           0\n",
      "dtype: int64\n"
     ]
    }
   ],
   "source": [
    "# 6) \n",
    "\n",
    "\n",
    "# Substituir valores faltantes em QTDFILVIVO por zero\n",
    "sinasc_interessante['QTDFILVIVO'].fillna(0, inplace=True)\n",
    "\n",
    "# Contar o número de linhas após a substituição\n",
    "total_registros = sinasc_interessante.shape[0]\n",
    "print(\"Número total de registros após substituição de valores faltantes em QTDFILVIVO por zero:\", total_registros)\n",
    "\n",
    "# Contar o número de valores missing por variável após a substituição\n",
    "missing_values = sinasc_interessante.isnull().sum()\n",
    "print(\"Número de valores missing por variável após substituição de valores faltantes em QTDFILVIVO por zero:\")\n",
    "print(missing_values)\n"
   ]
  },
  {
   "cell_type": "code",
   "execution_count": 45,
   "metadata": {},
   "outputs": [
    {
     "name": "stdout",
     "output_type": "stream",
     "text": [
      "Número de valores missing por variável após tratamento estatístico:\n",
      "LOCNASC            0\n",
      "IDADEMAE           0\n",
      "ESTCIVMAE          0\n",
      "ESCMAE             0\n",
      "QTDFILVIVO         0\n",
      "GESTACAO           0\n",
      "GRAVIDEZ           0\n",
      "CONSULTAS          0\n",
      "APGAR5             0\n",
      "APGAR_CATEGORIA    0\n",
      "dtype: int64\n"
     ]
    }
   ],
   "source": [
    "# 7)\n",
    "\n",
    "# Substituir valores ausentes em ESTCIVMAE pela moda\n",
    "estcivmae_moda = sinasc_interessante['ESTCIVMAE'].mode()[0]\n",
    "sinasc_interessante['ESTCIVMAE'].fillna(estcivmae_moda, inplace=True)\n",
    "\n",
    "# Substituir valores ausentes em ESCMAE pela moda\n",
    "escmae_moda = sinasc_interessante['ESCMAE'].mode()[0]\n",
    "sinasc_interessante['ESCMAE'].fillna(escmae_moda, inplace=True)\n",
    "\n",
    "# Verificar se ainda existem valores ausentes após o tratamento\n",
    "missing_values_final = sinasc_interessante.isnull().sum()\n",
    "print(\"Número de valores missing por variável após tratamento estatístico:\")\n",
    "print(missing_values_final)\n",
    "\n",
    "\n"
   ]
  },
  {
   "cell_type": "code",
   "execution_count": 46,
   "metadata": {},
   "outputs": [
    {
     "name": "stdout",
     "output_type": "stream",
     "text": [
      "Frequências da categorização do Apgar:\n",
      "Normal              26272\n",
      "Asfixia leve          318\n",
      "Asfixia severa         73\n",
      "Asfixia moderada       68\n",
      "Name: APGAR_CATEGORIA, dtype: int64\n"
     ]
    }
   ],
   "source": [
    "# 8)\n",
    "\n",
    "# Criar uma função para categorizar o Apgar\n",
    "def categorizar_apgar(apgar):\n",
    "    if apgar >= 8:\n",
    "        return 'Normal'\n",
    "    elif apgar >= 6:\n",
    "        return 'Asfixia leve'\n",
    "    elif apgar >= 4:\n",
    "        return 'Asfixia moderada'\n",
    "    else:\n",
    "        return 'Asfixia severa'\n",
    "\n",
    "# Aplicar a função à coluna de Apgar para criar a nova coluna de categorização\n",
    "sinasc_interessante['APGAR_CATEGORIA'] = sinasc_interessante['APGAR5'].apply(categorizar_apgar)\n",
    "\n",
    "# Calcular as frequências da nova coluna de categorização\n",
    "frequencias_apgar = sinasc_interessante['APGAR_CATEGORIA'].value_counts()\n",
    "\n",
    "# Exibir as frequências\n",
    "print(\"Frequências da categorização do Apgar:\")\n",
    "print(frequencias_apgar)\n",
    "\n"
   ]
  },
  {
   "cell_type": "code",
   "execution_count": 47,
   "metadata": {},
   "outputs": [
    {
     "name": "stdout",
     "output_type": "stream",
     "text": [
      "Frequências da categorização do Apgar:\n",
      "normal              26272\n",
      "asfixia_leve          318\n",
      "asfixia_severa         73\n",
      "asfixia_moderada       68\n",
      "Name: apgar_categoria, dtype: int64\n"
     ]
    }
   ],
   "source": [
    "# 9) seu código aqui\n",
    "\n",
    "# Renomear as colunas para snake case\n",
    "sinasc_interessante.rename(columns={\n",
    "    'LOCNASC': 'loc_nasc',\n",
    "    'IDADEMAE': 'idade_mae',\n",
    "    'ESTCIVMAE': 'est_civ_mae',\n",
    "    'ESCMAE': 'esc_mae',\n",
    "    'QTDFILVIVO': 'qtd_fil_vivo',\n",
    "    'GESTACAO': 'gestacao',\n",
    "    'GRAVIDEZ': 'gravidez',\n",
    "    'CONSULTAS': 'consultas',\n",
    "    'APGAR5': 'apgar5'\n",
    "}, inplace=True)\n",
    "\n",
    "# Criar uma função para categorizar o Apgar\n",
    "def categorizar_apgar(apgar):\n",
    "    if apgar >= 8:\n",
    "        return 'normal'\n",
    "    elif apgar >= 6:\n",
    "        return 'asfixia_leve'\n",
    "    elif apgar >= 4:\n",
    "        return 'asfixia_moderada'\n",
    "    else:\n",
    "        return 'asfixia_severa'\n",
    "\n",
    "# Aplicar a função à coluna de Apgar para criar a nova coluna de categorização\n",
    "sinasc_interessante['apgar_categoria'] = sinasc_interessante['apgar5'].apply(categorizar_apgar)\n",
    "\n",
    "# Calcular as frequências da nova coluna de categorização\n",
    "frequencias_apgar = sinasc_interessante['apgar_categoria'].value_counts()\n",
    "\n",
    "# Exibir as frequências\n",
    "print(\"Frequências da categorização do Apgar:\")\n",
    "print(frequencias_apgar)\n"
   ]
  }
 ],
 "metadata": {
  "kernelspec": {
   "display_name": "Python 3 (ipykernel)",
   "language": "python",
   "name": "python3"
  },
  "language_info": {
   "codemirror_mode": {
    "name": "ipython",
    "version": 3
   },
   "file_extension": ".py",
   "mimetype": "text/x-python",
   "name": "python",
   "nbconvert_exporter": "python",
   "pygments_lexer": "ipython3",
   "version": "3.9.12"
  }
 },
 "nbformat": 4,
 "nbformat_minor": 4
}
